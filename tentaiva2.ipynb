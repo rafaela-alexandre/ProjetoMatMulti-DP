{
 "cells": [
  {
   "cell_type": "code",
   "execution_count": 4,
   "metadata": {},
   "outputs": [
    {
     "name": "stdout",
     "output_type": "stream",
     "text": [
      "Soluções para f (k = 0 ou k = 2 ou k = 4 ): [-10.4719755119660, -6.28318530717959, -2.09439510239320, 0.0, 2.09439510239320, 6.28318530717959, 10.4719755119660]\n"
     ]
    },
    {
     "data": {
      "text/plain": [
       "[2.09439510239320, 6.28318530717959, 10.4719755119660]"
      ]
     },
     "execution_count": 4,
     "metadata": {},
     "output_type": "execute_result"
    }
   ],
   "source": [
    "import sympy as sym\n",
    "import math \n",
    "\n",
    "# Definindo as variáveis simbólicas\n",
    "V = sym.symbols('V')\n",
    "\n",
    "# Definindo as equações com base na imagem\n",
    "f = sym.Eq(-0.5 * sym.sin(V / 2) + 0.5 * sym.sin(V), 0)  # k = 2 ou 4\n",
    "\n",
    "\n",
    "# Resolvendo as equações\n",
    "respostas_f = sym.solve(f, V)\n",
    "\n",
    "# Exibindo as respostas\n",
    "print(f\"Soluções para f (k = 0 ou k = 2 ou k = 4 ): {respostas_f}\")\n",
    "\n",
    "valores_finais_f = []\n",
    "for i in respostas_f:\n",
    "    if i < 6 * math.pi and i > 0:\n",
    "        valores_finais_f.append(i)\n",
    "        \n",
    "\n",
    "valores_finais_f"
   ]
  },
  {
   "cell_type": "code",
   "execution_count": 5,
   "metadata": {},
   "outputs": [
    {
     "name": "stdout",
     "output_type": "stream",
     "text": [
      "Para k = 2: a = -1.047, b = 1.047\n",
      "Para k = 3: a = 6.283, b = 12.566\n",
      "Para k = 4: a = 13.614, b = 24.086\n"
     ]
    }
   ],
   "source": [
    "import math\n",
    "\n",
    "# Valores previamente calculados\n",
    "valores_finais_f = [2.09439510239320, 6.28318530717959, 10.4719755119660]# k = 0 ou k = 2 ou k = 4\n",
    "\n",
    "V = valores_finais_f[0]\n",
    "a1 = (((0 * math.pi)) - V) / 2\n",
    "b1 = V + a1\n",
    "\n",
    "# Para k = 2\n",
    "V = valores_finais_f[1]\n",
    "a2 = (((6 * math.pi)) - V) / 2\n",
    "b2= V + a2\n",
    "\n",
    "# Para k = 3\n",
    "\n",
    "# Para k = 4\n",
    "V = valores_finais_f[2]\n",
    "a3 = (((12 * math.pi)) - V) / 2\n",
    "b3 = V + a3\n",
    "\n",
    "# Exibindo os resultados\n",
    "print(f'Para k = 2: a = {a1:.03f}, b = {b1:.03f}')\n",
    "print(f'Para k = 3: a = {a2:.03f}, b = {b2:.03f}')\n",
    "print(f'Para k = 4: a = {a3:.03f}, b = {b3:.03f}')\n"
   ]
  },
  {
   "cell_type": "code",
   "execution_count": 6,
   "metadata": {},
   "outputs": [
    {
     "name": "stdout",
     "output_type": "stream",
     "text": [
      "Os pontos de auto-interseção da curva são dados pelas coordenadas:\n",
      "[(3.54189, 1.57872), (3.54189, 1.57872)] \n",
      "[(8.0, 5.19615), (8.0, 5.19615)] \n",
      "[(7.09627, 8.18685), (7.09627, 8.18685)]\n"
     ]
    }
   ],
   "source": [
    "import math\n",
    "\n",
    "# Definir os valores de a e b que você quer testar\n",
    "lista_a_b = [[a1, b1], [a2, b2], [a3, b3]]  # Substitua pelos valores reais de a e b\n",
    "pontos_auto = []\n",
    "\n",
    "for d in lista_a_b:\n",
    "    a = d[0]\n",
    "    b = d[1]\n",
    "\n",
    "    # Equações paramétricas de x(t) para a curva fornecida\n",
    "    xa = 5 * math.cos(a) - 6 * math.cos((5 * a) / 3)\n",
    "    xb = 5 * math.cos(b) - 6 * math.cos((5 * b) / 3)\n",
    "\n",
    "    # Equações paramétricas de y(t) para a curva fornecida\n",
    "    ya = 5 * math.sin(a) - 6 * math.sin((5 * a) / 3)\n",
    "    yb = 5 * math.sin(b) - 6 * math.sin((5 * b) / 3)\n",
    "\n",
    "    # Arredondando os valores para evitar pequenos erros numéricos\n",
    "    xa_rounded = abs(round(xa, 5))\n",
    "    xb_rounded = abs(round(xb, 5))\n",
    "    ya_rounded = abs(round(ya, 5))\n",
    "    yb_rounded = abs(round(yb, 5))\n",
    "\n",
    "    # Guardar os pontos arredondados\n",
    "    f = [(xa_rounded, ya_rounded), (xb_rounded, yb_rounded)]\n",
    "    pontos_auto.append(f)\n",
    "\n",
    "# Exibir os pontos de auto-interseção\n",
    "print('Os pontos de auto-interseção da curva são dados pelas coordenadas:')\n",
    "print(f'{pontos_auto[0]} \\n{pontos_auto[1]} \\n{pontos_auto[2]}')\n"
   ]
  }
 ],
 "metadata": {
  "kernelspec": {
   "display_name": "Python 3",
   "language": "python",
   "name": "python3"
  },
  "language_info": {
   "codemirror_mode": {
    "name": "ipython",
    "version": 3
   },
   "file_extension": ".py",
   "mimetype": "text/x-python",
   "name": "python",
   "nbconvert_exporter": "python",
   "pygments_lexer": "ipython3",
   "version": "3.11.1"
  }
 },
 "nbformat": 4,
 "nbformat_minor": 2
}
