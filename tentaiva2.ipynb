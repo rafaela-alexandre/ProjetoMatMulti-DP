{
 "cells": [
  {
   "cell_type": "code",
   "execution_count": 39,
   "metadata": {},
   "outputs": [
    {
     "name": "stdout",
     "output_type": "stream",
     "text": [
      "Soluções para f1 (k = 0 ou k = 2 ou k = 4): [0, 2.64207644948707, -195.619142723778, 7.12358350839081, 11.7259724131480, 18.8495559215388, 16.2074794720517]\n"
     ]
    }
   ],
   "source": [
    "import sympy as sym\n",
    "import math\n",
    "\n",
    "\n",
    "V = sym.symbols('V')\n",
    "\n",
    "f1 = 5 * sym.sin(V / 2) - 6 * sym.sin(5*V/6)\n",
    "\n",
    "\n",
    "\n",
    "# Resolvendo numericamente em intervalos para a primeira equação\n",
    "valores_finais_f1 = []\n",
    "for i in range(0, 19):  # Varremos valores de 0 a 6pi (aproximadamente 18.84)\n",
    "    try:\n",
    "        sol = sym.nsolve(f1, V, i)  # Tentamos encontrar solução próxima de i\n",
    "        if sol not in valores_finais_f1 :\n",
    "            valores_finais_f1.append(sol)\n",
    "    except:\n",
    "        continue\n",
    "\n",
    "# Exibindo as soluções finais encontradas para ambas as equações\n",
    "print(f\"Soluções para f1 (k = 0 ou k = 2 ou k = 4): {valores_finais_f1}\")\n",
    "\n"
   ]
  },
  {
   "cell_type": "code",
   "execution_count": 40,
   "metadata": {},
   "outputs": [
    {
     "data": {
      "text/plain": [
       "[[0, 0],\n",
       " [9.42477796076938, 9.42477796076938],\n",
       " [10.7458161855129, 8.10373973602584],\n",
       " [12.9865697149648, 5.86298620657398],\n",
       " [15.2877641673434, 3.56179175419540],\n",
       " [17.5285176967952, 1.32103822474354]]"
      ]
     },
     "execution_count": 40,
     "metadata": {},
     "output_type": "execute_result"
    }
   ],
   "source": [
    "\n",
    "# Valores previamente calculados\n",
    "valores_finais_f = valores_finais_f1# k = 0 ou k = 2 ou k = 4\n",
    "k_values = [0,2,4]\n",
    "resultados =[]\n",
    "for V in valores_finais_f:\n",
    "    for j in k_values:\n",
    "\n",
    "        b = (((j * 3* math.pi)) - V) / 2\n",
    "        a = V + b\n",
    "        ab= [a,b]\n",
    "        if a >= 0 and a< 6*math.pi:\n",
    "            if b >= 0 and b < 6*math.pi:\n",
    "                resultados.append(ab)\n",
    "  \n",
    "resultados"
   ]
  },
  {
   "cell_type": "code",
   "execution_count": 41,
   "metadata": {},
   "outputs": [
    {
     "data": {
      "text/plain": [
       "[[(-1.0, 0.0), (-1.0, 0.0)],\n",
       " [(1.0, -0.0), (1.0, -0.0)],\n",
       " [(-4.77524, 0.0), (-4.77524, 0.0)],\n",
       " [(10.2077, -0.0), (10.2077, 0.0)],\n",
       " [(-10.2077, 0.0), (-10.2077, 0.0)],\n",
       " [(4.77524, -0.0), (4.77524, 0.0)]]"
      ]
     },
     "execution_count": 41,
     "metadata": {},
     "output_type": "execute_result"
    }
   ],
   "source": [
    "import math\n",
    "\n",
    "# Definir os valores de a e b que você quer testar\n",
    "lista_a_b = resultados  # Substitua pelos valores reais de a e b\n",
    "pontos_auto = []\n",
    "\n",
    "for d in lista_a_b:\n",
    "    a = d[0]\n",
    "    b = d[1]\n",
    "\n",
    "    # Equações paramétricas de x(t) para a curva fornecida\n",
    "    xa = 5 * math.cos(a) - 6 * math.cos((5 * a) / 3)\n",
    "    xb = 5 * math.cos(b) - 6 * math.cos((5 * b) / 3)\n",
    "    \n",
    "\n",
    "    # Equações paramétricas de y(t) para a curva fornecida\n",
    "    ya = 5 * math.sin(a) - 6 * math.sin((5 * a) / 3)\n",
    "    yb = 5 * math.sin(b) - 6 * math.sin((5 * b) / 3)\n",
    "\n",
    "    # Arredondando os valores para evitar pequenos erros numéricos\n",
    "    xa_rounded = round(xa, 5)\n",
    "    xb_rounded = round(xb, 5)\n",
    "    ya_rounded = round(ya, 5)\n",
    "    yb_rounded = round(yb, 5)\n",
    "   \n",
    "\n",
    "    # Guardar os pontos arredondados\n",
    "    f = [(xa_rounded, ya_rounded), (xb_rounded, yb_rounded)]\n",
    "    if f not in pontos_auto:\n",
    "        pontos_auto.append(f)\n",
    "\n",
    "# Exibir os pontos de auto-interseção\n",
    "pontos_auto"
   ]
  },
  {
   "cell_type": "code",
   "execution_count": 42,
   "metadata": {},
   "outputs": [
    {
     "name": "stdout",
     "output_type": "stream",
     "text": [
      "[[(-1.0, 0.0), (-1.0, 0.0)], [(1.0, 0.0), (1.0, 0.0)], [(-4.77524, 0.0), (-4.77524, 0.0)], [(10.2077, 0.0), (10.2077, 0.0)], [(-10.2077, 0.0), (-10.2077, 0.0)], [(4.77524, 0.0), (4.77524, 0.0)]]\n"
     ]
    }
   ],
   "source": [
    "def remove_negative_zero(num):\n",
    "    return 0.0 if num == -0.0 else num\n",
    "\n",
    "def clean_list(data):\n",
    "    return [[(remove_negative_zero(x[0]), remove_negative_zero(x[1])) for x in pair] for pair in data]\n",
    "\n",
    "\n",
    "cleaned_data = clean_list(pontos_auto)\n",
    "print(cleaned_data)\n"
   ]
  },
  {
   "cell_type": "code",
   "execution_count": 43,
   "metadata": {},
   "outputs": [],
   "source": [
    "pontos_de_auto_intersecao = []\n",
    "for i in cleaned_data:\n",
    "    a = i[0]\n",
    "    b = i[1]\n",
    "    if a == b:\n",
    "        pontos_de_auto_intersecao.append(a)"
   ]
  },
  {
   "cell_type": "code",
   "execution_count": 44,
   "metadata": {},
   "outputs": [
    {
     "name": "stdout",
     "output_type": "stream",
     "text": [
      "Esses foram os pontos de autointersecção achados: [(-1.0, 0.0), (1.0, 0.0), (-4.77524, 0.0), (10.2077, 0.0), (-10.2077, 0.0), (4.77524, 0.0)]\n"
     ]
    }
   ],
   "source": [
    "print(f\"Esses foram os pontos de autointersecção achados: {pontos_de_auto_intersecao}\")"
   ]
  },
  {
   "cell_type": "code",
   "execution_count": null,
   "metadata": {},
   "outputs": [],
   "source": []
  }
 ],
 "metadata": {
  "kernelspec": {
   "display_name": "Python 3",
   "language": "python",
   "name": "python3"
  },
  "language_info": {
   "codemirror_mode": {
    "name": "ipython",
    "version": 3
   },
   "file_extension": ".py",
   "mimetype": "text/x-python",
   "name": "python",
   "nbconvert_exporter": "python",
   "pygments_lexer": "ipython3",
   "version": "3.11.1"
  }
 },
 "nbformat": 4,
 "nbformat_minor": 2
}
